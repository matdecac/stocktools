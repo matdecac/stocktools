{
 "cells": [
  {
   "cell_type": "code",
   "execution_count": null,
   "metadata": {},
   "outputs": [],
   "source": [
    "import os\n",
    "import json\n",
    "from datetime import date, datetime, timedelta\n",
    "import numpy as np\n",
    "import pandas as pd\n",
    "import plotly.graph_objects as go\n",
    "import pandas as pd\n",
    "from libsstock import (\n",
    "    loadStocks, getYFdate, computeIchimoku, fillNameFromYF,\n",
    "    graphIchimoku, graphBestGain, graphWorseGain, graphCashLock, graphRendement,\n",
    "    graphEvolutionTitre, checkVar\n",
    ")\n",
    "from stockList import allStocks, stockList\n",
    "from plotly_tools import genIMGfromFile\n",
    "from IPython.display import Image as ImageD"
   ]
  },
  {
   "cell_type": "code",
   "execution_count": null,
   "metadata": {},
   "outputs": [],
   "source": [
    "#(strOut, dfData, historyData) = checkVar(1, 'mystocks.json')"
   ]
  },
  {
   "cell_type": "code",
   "execution_count": null,
   "metadata": {},
   "outputs": [],
   "source": [
    "df = loadStocks('mystocks.json')\n",
    "display(df)\n",
    "historyData = getYFdate(df, startDate=date.today() - timedelta(days=365+41), stopDate=date.today() + timedelta(days=1))"
   ]
  },
  {
   "cell_type": "code",
   "execution_count": null,
   "metadata": {},
   "outputs": [],
   "source": [
    "cv\n",
    "#display(ImageD(data=genIMGfromFile(graphBestGain(df), 'img.png', scale=1.3, width=500, height=500)))\n",
    "#display(ImageD(data=genIMGfromFile(graphWorseGain(df), 'img.png', scale=1.3, width=500, height=500)))\n",
    "#display(ImageD(data=genIMGfromFile(graphCashLock(df), 'img.png', scale=1.3, width=500, height=500)))\n",
    "display(ImageD(data=genIMGfromFile(graphRendement(df), 'img.png', scale=1.3, width=800, height=500)))"
   ]
  },
  {
   "cell_type": "code",
   "execution_count": null,
   "metadata": {},
   "outputs": [],
   "source": []
  },
  {
   "cell_type": "code",
   "execution_count": null,
   "metadata": {},
   "outputs": [],
   "source": [
    "for ind in range(len(df)):\n",
    "    display(ImageD(data=genIMGfromFile(graphEvolutionTitre(historyData[ind], df.iloc[ind]), 'img.png', scale=1.3, width=800, height=500)))"
   ]
  },
  {
   "cell_type": "code",
   "execution_count": null,
   "metadata": {},
   "outputs": [],
   "source": [
    "historyData = getYFdate(df, startDate=date.today() - timedelta(days=365+41), stopDate=date.today() + timedelta(days=1))\n",
    "listStockNames = [df.loc[ind]['stockname'] for ind in df.index]\n",
    "for ind in range(len(listStockNames)):\n",
    "    histo = computeIchimoku(historyData[ind])\n",
    "    display(ImageD(data=genIMGfromFile(graphIchimoku(df[df['stockname'] == listStockNames[ind]], histo), 'img.png', scale=1.3)))"
   ]
  },
  {
   "cell_type": "code",
   "execution_count": null,
   "metadata": {},
   "outputs": [],
   "source": [
    "# fill name in empty fields\n",
    "#jsonToUpdate = 'stockprospects.json'\n",
    "jsonToUpdate = 'mystocks.json'\n",
    "df = pd.read_json(jsonToUpdate, orient='index')\n",
    "#df= df.append({\n",
    "#    'stockname': 'ALNOV.PA', \n",
    "#    'boughtDate': datetime(year=2020, month=2, day=17), \n",
    "#    'boughtValue': 1.2,\n",
    "#    'boughtQ': 52,\n",
    "#    'boughtFrais': 1.99,\n",
    "#    'sellFrais': 1.99,\n",
    "#}, ignore_index=True)\n",
    "#df.loc[df['stockname'] == 'ALNOV.PA', 'name'] = 'NOVACYT'\n",
    "#df.loc[df['stockname'] == 'MDM.PA', 'sellValue'] = 12.46\n",
    "#df.loc[df['stockname'] == 'MDM.PA', 'sellDate'] = datetime(year=2020, month=2, day=17)\n",
    "df = fillNameFromYF(df)\n",
    "df.to_json(jsonToUpdate, orient='index')\n",
    "display(df)\n",
    "#historyData = getYFdate(df, startDate=date.today() - timedelta(days=365+41), stopDate=date.today() + timedelta(days=1))"
   ]
  },
  {
   "cell_type": "code",
   "execution_count": null,
   "metadata": {},
   "outputs": [],
   "source": [
    "# fill name in empty fields\n",
    "jsonToUpdate = 'stockprospects.json'\n",
    "df = pd.read_json(jsonToUpdate, orient='index')\n",
    "#df= df.append({'stockname': 'ALO.PA'}, ignore_index=True)\n",
    "#df.loc[df['stockname'] == 'ALO.PA', 'name'] = 'ALSTOM'\n",
    "df = fillNameFromYF(df)\n",
    "df.to_json(jsonToUpdate, orient='index')\n",
    "display(df)\n",
    "#historyData = getYFdate(df, startDate=date.today() - timedelta(days=365+41), stopDate=date.today() + timedelta(days=1))"
   ]
  },
  {
   "cell_type": "code",
   "execution_count": null,
   "metadata": {},
   "outputs": [],
   "source": [
    "[{'label':df.loc[ind]['name'], 'value':df.loc[ind]['stockname']} for ind in df.index]"
   ]
  },
  {
   "cell_type": "code",
   "execution_count": null,
   "metadata": {},
   "outputs": [],
   "source": [
    "dateStart = datetime.now() - timedelta(days=200)\n",
    "dateStop = datetime.now()\n",
    "df = pd.DataFrame([{'stockname': 'STM.PA',},])\n",
    "dfData = loadStocks('mystocks.json')\n",
    "dfData = dfData[dfData['stockname'] == df.iloc[0]['stockname']]\n",
    "if len(dfData) > 0:\n",
    "    df = dfData\n",
    "else:\n",
    "    df = fillNameFromYF(df)\n",
    "dfHist = getYFdate(df, dateStart, dateStop)\n",
    "dfHist = computeIchimoku(dfHist[0])\n",
    "display(ImageD(data=genIMGfromFile(graphIchimoku(df, dfHist).update({'layout': dict(template=\"plotly_dark\", xaxis_rangeslider_visible=False)}), 'img.png', scale=1.3, width=800, height=500)))"
   ]
  },
  {
   "cell_type": "code",
   "execution_count": null,
   "metadata": {},
   "outputs": [],
   "source": []
  },
  {
   "cell_type": "code",
   "execution_count": null,
   "metadata": {},
   "outputs": [],
   "source": []
  },
  {
   "cell_type": "code",
   "execution_count": null,
   "metadata": {},
   "outputs": [],
   "source": [
    "listStockNames = [df.loc[ind]['stockname'] for ind in df.index]\n",
    "for ind in range(len(listStockNames)):\n",
    "    histo = computeIchimoku(historyData[ind])\n",
    "    display(ImageD(data=genIMGfromFile(graphIchimoku(df[df['stockname'] == listStockNames[ind]], histo), 'img.png', scale=1.3)))"
   ]
  }
 ],
 "metadata": {
  "kernelspec": {
   "display_name": "Python 3",
   "language": "python",
   "name": "python3"
  },
  "language_info": {
   "codemirror_mode": {
    "name": "ipython",
    "version": 3
   },
   "file_extension": ".py",
   "mimetype": "text/x-python",
   "name": "python",
   "nbconvert_exporter": "python",
   "pygments_lexer": "ipython3",
   "version": "3.8.1"
  }
 },
 "nbformat": 4,
 "nbformat_minor": 4
}
