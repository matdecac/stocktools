{
 "cells": [
  {
   "cell_type": "code",
   "execution_count": null,
   "metadata": {},
   "outputs": [],
   "source": [
    "import importlib"
   ]
  },
  {
   "cell_type": "code",
   "execution_count": null,
   "metadata": {},
   "outputs": [],
   "source": [
    "import os\n",
    "import json\n",
    "from datetime import date, datetime, timedelta, time\n",
    "import numpy as np\n",
    "import pandas as pd\n",
    "import plotly.graph_objects as go\n",
    "import pandas as pd\n",
    "from libsstock import (\n",
    "    loadStocks, computeIchimoku,\n",
    "    graphIchimoku, graphBestGain, graphWorseGain, graphCashLock, graphRendement,\n",
    "    graphEvolutionTitre, checkVar\n",
    ")\n",
    "from updateDB import getStockData, addStock, updateDB, getStockIntradayData, getStockName\n",
    "from plotly_tools import genIMGfromFile\n",
    "from IPython.display import Image as ImageD\n",
    "alphaVantage=\"***REMOVED***\""
   ]
  },
  {
   "cell_type": "code",
   "execution_count": null,
   "metadata": {},
   "outputs": [],
   "source": []
  },
  {
   "cell_type": "code",
   "execution_count": null,
   "metadata": {},
   "outputs": [],
   "source": [
    "#addStock('BTC-EUR', jsonToUpdate='stockprospects.json')"
   ]
  },
  {
   "cell_type": "code",
   "execution_count": null,
   "metadata": {},
   "outputs": [],
   "source": [
    "#(strOut, dfData, historyData) = checkVar(1, 'mystocks.json')"
   ]
  },
  {
   "cell_type": "code",
   "execution_count": null,
   "metadata": {},
   "outputs": [],
   "source": [
    "df = loadStocks('mystocks.json')\n",
    "display(df[df['sellValue'].isna()].sort_values('boughtDate'))"
   ]
  },
  {
   "cell_type": "code",
   "execution_count": null,
   "metadata": {},
   "outputs": [],
   "source": [
    "\n",
    "import libsstock\n",
    "importlib.reload(libsstock)\n",
    "import updateDB\n",
    "importlib.reload(updateDB)\n",
    "from updateDB import updateOHLC, getStockIntradayData, getYFdata, updateDB, updateDBintradayFromSSI, getLastsValue, getStockName\n",
    "from libsstock import (\n",
    "    loadStocks, computeIchimoku,\n",
    "    graphIchimoku, graphBestGain, graphWorseGain, graphCashLock, graphRendement,\n",
    "    graphEvolutionTitre, checkVar, graphDataForStock, loadStocks, genLink1stock, detectStockVar\n",
    ")\n",
    "updateDB()\n",
    "updateDBintradayFromSSI()\n",
    "updateDB(daysHisto=365*10, stockRes='daily')\n",
    "updateDB(daysHisto=6, stockRes='intraday')"
   ]
  },
  {
   "cell_type": "code",
   "execution_count": null,
   "metadata": {},
   "outputs": [],
   "source": [
    "from updateDB import getLastsValue\n",
    "from libsstock import genLink1stock\n",
    "import updateDB\n",
    "importlib.reload(updateDB)\n",
    "from updateDB import HandleDB, checkSendMessage\n",
    "\n",
    "import libs.datamodel\n",
    "importlib.reload(libs.datamodel)\n",
    "from libs.datamodel import StockDay, StockIntraDay, HistDetectStockVar\n",
    "from sqlalchemy import create_engine, desc, asc\n",
    "from sqlalchemy.orm import scoped_session, sessionmaker\n",
    "checkSendMessage('POXEL.PA', 'detectStockVar')"
   ]
  },
  {
   "cell_type": "code",
   "execution_count": null,
   "metadata": {},
   "outputs": [],
   "source": []
  },
  {
   "cell_type": "code",
   "execution_count": null,
   "metadata": {},
   "outputs": [],
   "source": [
    "df = loadStocks('stockprospects.json')\n",
    "display(df)"
   ]
  },
  {
   "cell_type": "code",
   "execution_count": null,
   "metadata": {},
   "outputs": [],
   "source": [
    "import libsstock\n",
    "import time\n",
    "importlib.reload(libsstock)\n",
    "from libsstock import (\n",
    "    loadStocks, detectStockVar\n",
    ")\n",
    "initTime = time.time()\n",
    "(strOut, listStocks) = detectStockVar()\n",
    "print('Diff : {:.2f} s'.format(time.time() - initTime))"
   ]
  },
  {
   "cell_type": "code",
   "execution_count": null,
   "metadata": {},
   "outputs": [],
   "source": [
    "stockName = 'TSLA'\n",
    "mybot = None"
   ]
  },
  {
   "cell_type": "code",
   "execution_count": null,
   "metadata": {},
   "outputs": [],
   "source": [
    "df = getStockIntradayData(stockName, datetime.now() - timedelta(hours=15))\n",
    "df = updateOHLC(df, freq=15, unit='T')\n",
    "tmpstore = np.array(df['Close'])\n",
    "df['var'] = np.diff(tmpstore, append=tmpstore[-1])/tmpstore * 100\n",
    "df.index += timedelta(hours=1)\n",
    "dataFig = []\n",
    "dataFig.append({\n",
    "        'x': df.index,\n",
    "        'y': df['var'],\n",
    "        'type': 'scatter',\n",
    "})\n",
    "fig = go.Figure(data=dataFig, layout={'title': 'Rendement'})\n",
    "fig.update_layout(template=\"plotly_dark\", xaxis_rangeslider_visible=False, showlegend=False)\n",
    "fig.show()"
   ]
  },
  {
   "cell_type": "code",
   "execution_count": null,
   "metadata": {},
   "outputs": [],
   "source": [
    "\n",
    "import libsstock\n",
    "importlib.reload(libsstock)\n",
    "import updateDB\n",
    "importlib.reload(updateDB)\n",
    "from updateDB import updateOHLC, getStockIntradayData, getYFdata, updateDB\n",
    "from libsstock import (\n",
    "    loadStocks, computeIchimoku,\n",
    "    graphIchimoku, graphBestGain, graphWorseGain, graphCashLock, graphRendement,\n",
    "    graphEvolutionTitre, checkVar, graphDataForStock, loadStocks, graphGenericStock\n",
    ")\n",
    "\n",
    "#stockName = msg[\"text\"].replace('/stockinfo','').replace('_', '.')\n",
    "print('Generate data for ' + stockName)\n",
    "if mybot is not None:\n",
    "    mybot.sendMessage(\n",
    "        chat_id, 'Generate data for ' + stockName\n",
    "    )\n",
    "graphDataA = []\n",
    "graphDataA.append(graphEvolutionTitre(stockName))\n",
    "graphDataA.append(graphDataForStock(stockName, freq=1, unit='W', histoDepth=timedelta(days=360)))\n",
    "graphDataA.append(graphDataForStock(stockName, freq=1, unit='D', histoDepth=timedelta(days=60)))\n",
    "graphDataA.append(graphDataForStock(stockName, freq=5, unit='T', histoDepth=timedelta(days=0)))\n",
    "if mybot is not None:\n",
    "    for graphData in graphDataA:\n",
    "        genIMGfromFile(graphData, 'img.png', scale=1.3, width=800, height=500)\n",
    "        mybot.sendPhoto(chat_id, open('img.png', 'rb'))\n",
    "else:\n",
    "    for graphData in graphDataA:\n",
    "        fig = go.Figure(graphData)\n",
    "        fig.show()"
   ]
  },
  {
   "cell_type": "code",
   "execution_count": null,
   "metadata": {},
   "outputs": [],
   "source": [
    "#display(ImageD(data=genIMGfromFile(graphBestGain(df), 'img.png', scale=1.3, width=500, height=500)))\n",
    "#display(ImageD(data=genIMGfromFile(graphWorseGain(df), 'img.png', scale=1.3, width=500, height=500)))\n",
    "#display(ImageD(data=genIMGfromFile(graphCashLock(df), 'img.png', scale=1.3, width=500, height=500)))\n",
    "display(ImageD(data=genIMGfromFile(graphRendement(df, method='all'), 'img.png', scale=1.3, width=800, height=500)))"
   ]
  },
  {
   "cell_type": "code",
   "execution_count": null,
   "metadata": {},
   "outputs": [],
   "source": [
    "for ind in range(len(df)):\n",
    "    display(ImageD(data=genIMGfromFile(graphEvolutionTitre(getStockData(df.iloc[ind]['stockname']), df.iloc[ind]), 'img.png', scale=1.3, width=800, height=500)))"
   ]
  },
  {
   "cell_type": "code",
   "execution_count": null,
   "metadata": {},
   "outputs": [],
   "source": [
    "# fill name in empty fields\n",
    "#jsonToUpdate = 'stockprospects.json'\n",
    "jsonToUpdate = 'mystocks.json'\n",
    "df = pd.read_json(jsonToUpdate, orient='index')\n",
    "#df= df.append({\n",
    "#    'stockname': 'ALNOV.PA', \n",
    "#    'boughtDate': datetime(year=2020, month=2, day=17), \n",
    "#    'boughtValue': 2.07,\n",
    "#    'boughtQ': 25,\n",
    "#    'boughtFrais': 1.99,\n",
    "#    'sellFrais': 1.99,\n",
    "#}, ignore_index=True)\n",
    "#df.loc[df['stockname'] == 'ALNOV.PA', 'name'] = 'NOVACYT'\n",
    "#df.loc[df[df['stockname'] == 'ALNOV.PA'].iloc[-1].name, 'sellValue'] = 12.9\n",
    "#df.loc[df[df['stockname'] == 'ALNOV.PA'].iloc[-1].name, 'sellDate'] = datetime(year=2020, month=2, day=20)\n",
    "#df = fillNameFromYF(df)\n",
    "df.to_json(jsonToUpdate, orient='index', indent=4)\n",
    "display(df)\n",
    "#historyData = getYFdate(df, startDate=date.today() - timedelta(days=365+41), stopDate=date.today() + timedelta(days=1))"
   ]
  },
  {
   "cell_type": "code",
   "execution_count": null,
   "metadata": {},
   "outputs": [],
   "source": [
    "df.loc[((df['stockname'] == 'ALNOV.PA') && )]"
   ]
  },
  {
   "cell_type": "code",
   "execution_count": null,
   "metadata": {},
   "outputs": [],
   "source": [
    "# fill name in empty fields\n",
    "jsonToUpdate = 'stockprospects.json'\n",
    "df = pd.read_json(jsonToUpdate, orient='index')\n",
    "#df= df.append({'stockname': 'ALERS.PA'}, ignore_index=True)\n",
    "#df.loc[df['stockname'] == 'ALERS.PA', 'name'] = 'EUROBIO SCIENT'\n",
    "#df = fillNameFromYF(df)\n",
    "df.to_json(jsonToUpdate, orient='index', indent=4)\n",
    "display(df)\n",
    "#historyData = getYFdate(df, startDate=date.today() - timedelta(days=365+41), stopDate=date.today() + timedelta(days=1))"
   ]
  },
  {
   "cell_type": "code",
   "execution_count": null,
   "metadata": {},
   "outputs": [],
   "source": [
    "[{'label':df.loc[ind]['name'], 'value':df.loc[ind]['stockname']} for ind in df.index]"
   ]
  },
  {
   "cell_type": "code",
   "execution_count": null,
   "metadata": {},
   "outputs": [],
   "source": [
    "dateStart = datetime.now() - timedelta(days=200)\n",
    "dateStop = datetime.now()\n",
    "df = pd.DataFrame([{'stockname': 'STM.PA',},])\n",
    "dfData = loadStocks('mystocks.json')\n",
    "dfData = dfData[dfData['stockname'] == df.iloc[0]['stockname']]\n",
    "if len(dfData) > 0:\n",
    "    df = dfData\n",
    "else:\n",
    "    df = fillNameFromYF(df)\n",
    "dfHist = getYFdate(df, dateStart, dateStop)\n",
    "dfHist = computeIchimoku(dfHist[0])\n",
    "display(ImageD(data=genIMGfromFile(graphIchimoku(df, dfHist).update({'layout': dict(template=\"plotly_dark\", xaxis_rangeslider_visible=False)}), 'img.png', scale=1.3, width=800, height=500)))"
   ]
  },
  {
   "cell_type": "code",
   "execution_count": null,
   "metadata": {},
   "outputs": [],
   "source": []
  },
  {
   "cell_type": "code",
   "execution_count": null,
   "metadata": {},
   "outputs": [],
   "source": []
  },
  {
   "cell_type": "code",
   "execution_count": null,
   "metadata": {},
   "outputs": [],
   "source": [
    "listStockNames = [df.loc[ind]['stockname'] for ind in df.index]\n",
    "for ind in range(len(listStockNames)):\n",
    "    histo = computeIchimoku(historyData[ind])\n",
    "    display(ImageD(data=genIMGfromFile(graphIchimoku(df[df['stockname'] == listStockNames[ind]], histo), 'img.png', scale=1.3)))"
   ]
  }
 ],
 "metadata": {
  "kernelspec": {
   "display_name": "Python 3",
   "language": "python",
   "name": "python3"
  },
  "language_info": {
   "codemirror_mode": {
    "name": "ipython",
    "version": 3
   },
   "file_extension": ".py",
   "mimetype": "text/x-python",
   "name": "python",
   "nbconvert_exporter": "python",
   "pygments_lexer": "ipython3",
   "version": "3.7.5"
  }
 },
 "nbformat": 4,
 "nbformat_minor": 4
}
