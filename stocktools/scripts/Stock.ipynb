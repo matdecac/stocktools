{
 "cells": [
  {
   "cell_type": "code",
   "execution_count": null,
   "metadata": {},
   "outputs": [],
   "source": [
    "import os\n",
    "import json\n",
    "from datetime import date, datetime, timedelta\n",
    "import numpy as np\n",
    "import pandas as pd\n",
    "import plotly.graph_objects as go\n",
    "import pandas as pd\n",
    "from libsstock import getYFdate, getInfoBuy, plotBasic, computeIchimoku, plotIchimoku\n",
    "from stockList import allStocks, stockList\n",
    "from plotly_tools import genIMGfromFile\n",
    "from IPython.display import Image as ImageD"
   ]
  },
  {
   "cell_type": "code",
   "execution_count": null,
   "metadata": {},
   "outputs": [],
   "source": []
  },
  {
   "cell_type": "code",
   "execution_count": null,
   "metadata": {},
   "outputs": [],
   "source": []
  },
  {
   "cell_type": "code",
   "execution_count": null,
   "metadata": {},
   "outputs": [],
   "source": [
    "# run only on week days"
   ]
  },
  {
   "cell_type": "code",
   "execution_count": null,
   "metadata": {},
   "outputs": [],
   "source": []
  },
  {
   "cell_type": "code",
   "execution_count": null,
   "metadata": {},
   "outputs": [],
   "source": [
    "stockProspectFull = [\n",
    "    {'stockname': 'STM.PA',},\n",
    "    {'stockname': 'SO.PA',},\n",
    "    {'stockname': 'AI.PA',},\n",
    "    {'stockname': 'TEP.PA',},\n",
    "    {'stockname': 'DBV.PA',},\n",
    "    {'stockname': 'SIGHT.PA',},\n",
    "    {'stockname': 'NANO.PA',},\n",
    "    {'stockname': 'SAN.PA',},\n",
    "    {'stockname': 'AKA.PA',},\n",
    "    {'stockname': 'GNFT.PA'},\n",
    "    {'stockname': 'POXEL.PA'},\n",
    "    {'stockname': 'EUCAR.PA'},\n",
    "]\n",
    "stockProspect = [\n",
    "    {'stockname': 'EUCAR.PA'},\n",
    "]"
   ]
  },
  {
   "cell_type": "code",
   "execution_count": null,
   "metadata": {},
   "outputs": [],
   "source": []
  },
  {
   "cell_type": "code",
   "execution_count": null,
   "metadata": {},
   "outputs": [],
   "source": [
    "\n",
    "stockProspect = getYFdate(stockProspect)\n",
    "stockProspect = getInfoBuy(stockProspect, allStocks)"
   ]
  },
  {
   "cell_type": "code",
   "execution_count": null,
   "metadata": {},
   "outputs": [],
   "source": [
    "def createMessage(stockList):\n",
    "    stockProspect = getInfoBuy(stockList, stockList)\n",
    "    for stock in stockProspect:\n",
    "        diff = stock['valueNow'] - stock['boughtNetValue']\n",
    "        if diff > -10000:\n",
    "            strOut = stock['name'] + ' :\\n'\n",
    "            strOut += ' - boughtNetValue : {:.3f} €\\n'.format(stock['boughtNetValue'])\n",
    "            strOut += ' - valueNow       : {:.3f} €\\n'.format(stock['valueNow'])\n",
    "            strOut += ' - diff           : {:.3f} €\\n'.format(diff)\n",
    "            strOut += ' - cashIn         : {:.2f} €\\n'.format(diff*stock['boughtQ']) \n",
    "            telegram_bot_sendtext(strOut)\n",
    "\n"
   ]
  },
  {
   "cell_type": "code",
   "execution_count": null,
   "metadata": {},
   "outputs": [],
   "source": [
    "for stock in stockProspect:\n",
    "    #plotBasic(stock)\n",
    "    stock = computeIchimoku(stock)\n",
    "    fig = plotIchimoku(stock)\n",
    "    fig.update_layout(template=\"plotly_dark\", xaxis_rangeslider_visible=False, height=600)\n",
    "    #fig.show() # while plotly is not working with jupyter lab\n",
    "    display(ImageD(data=genIMGfromFile(fig, 'img.png', scale=1.3)))\n",
    "    mybot.sendPhoto(bot_chatID, open('img.png', 'rb'))\n",
    "    \n"
   ]
  },
  {
   "cell_type": "code",
   "execution_count": null,
   "metadata": {},
   "outputs": [],
   "source": []
  },
  {
   "cell_type": "code",
   "execution_count": null,
   "metadata": {},
   "outputs": [],
   "source": [
    "dataFig = []\n",
    "dataFig.append({\n",
    "        'x': [stock['name'] for stock in stockList],\n",
    "        'y': [stock['netActualGain'] for stock in stockList],\n",
    "        'type': 'bar',\n",
    "})\n",
    "fig = go.Figure(data=dataFig, layout={'title': '€ Gain by shares'})\n",
    "fig.update_layout(template=\"plotly_dark\", xaxis_rangeslider_visible=False)\n",
    "fig.show()\n",
    "print('Total Gain ' + str(np.sum([stock['netActualGain'] for stock in stockList])))"
   ]
  }
 ],
 "metadata": {
  "kernelspec": {
   "display_name": "Python 3",
   "language": "python",
   "name": "python3"
  },
  "language_info": {
   "codemirror_mode": {
    "name": "ipython",
    "version": 3
   },
   "file_extension": ".py",
   "mimetype": "text/x-python",
   "name": "python",
   "nbconvert_exporter": "python",
   "pygments_lexer": "ipython3",
   "version": "3.8.1"
  }
 },
 "nbformat": 4,
 "nbformat_minor": 4
}
