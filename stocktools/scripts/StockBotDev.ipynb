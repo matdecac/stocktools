{
 "cells": [
  {
   "cell_type": "code",
   "execution_count": null,
   "metadata": {},
   "outputs": [],
   "source": [
    "import os\n",
    "import json\n",
    "import time\n",
    "from datetime import date, datetime, timedelta\n",
    "import numpy as np\n",
    "import pandas as pd\n",
    "import plotly.graph_objects as go\n",
    "import pandas as pd\n",
    "from libsstock import (\n",
    "    loadStocks, getYFdate, getInfoBuy, computeIchimoku, fillNameFromYF,\n",
    "    graphIchimoku, graphBestGain, graphWorseGain, graphCashLock, graphRendement\n",
    ")\n",
    "from plotly_tools import genIMGfromFile\n",
    "import telepot\n",
    "\n",
    "def displayGraphValues(mybot, chat_id):\n",
    "    mybot.sendMessage(\n",
    "        chat_id, 'Veuillez patientez pandent la frabrication du graphe...'\n",
    "    )\n",
    "    df = loadStocks('mystocks.json')\n",
    "    genIMGfromFile(graphRendement(df), 'img.png', scale=1.3, width=800, height=500)\n",
    "    mybot.sendPhoto(chat_id, open('img.png', 'rb'))\n",
    "\n",
    "def listMenuItems(mybot, chat_id):\n",
    "    mybot.sendMessage(\n",
    "        chat_id, '''\n",
    "        Commandes possibles :\\n\n",
    "        ''' + '\\n'.join(['- /' + key + ' : ' + value['details'] for key, value in availableCommands.items()])\n",
    "    )\n",
    "\n",
    "availableCommands = {\n",
    "    'menu': {'fct': listMenuItems, 'details': 'Affiche les commandes disponibles.'},\n",
    "    'gainetpertes': {'fct': displayGraphValues, 'details': 'Répartition des pertes et gain par actions.'},\n",
    "}\n",
    "\n",
    "def handle(msg):\n",
    "    global mybot\n",
    "    content_type, chat_type, chat_id = telepot.glance(msg)\n",
    "    \n",
    "    if content_type == 'text':\n",
    "        if msg[\"text\"] in ['/' + value for value in availableCommands.keys()]:\n",
    "            for cmd, value in availableCommands.items():\n",
    "                if msg[\"text\"] == '/' + cmd:\n",
    "                    value['fct'](mybot, chat_id)\n",
    "        else:\n",
    "            mybot.sendMessage(chat_id, \"Message '{}' non géré, essayez /menu.\".format(msg[\"text\"]))\n",
    "\n",
    "\n",
    "\n",
    "def main():\n",
    "    global mybot\n",
    "    bot_token = '***REMOVED***'\n",
    "    bot_chatID = '***REMOVED***'\n",
    "    mybot = telepot.Bot(bot_token)\n",
    "    mybot.message_loop(handle)\n",
    "    mybot.sendMessage(\n",
    "        bot_chatID, '''\n",
    "        Bonjour, bienvenue sur le bot financier, essayer /menu pour les fonctions.\n",
    "        '''\n",
    "    )\n",
    "    while(1):\n",
    "        thisHourSend = datetime.today().hour\n",
    "        if (datetime.today().weekday() in [0, 1, 2, 3, 4] and datetime.today().hour >= 18 and datetime.today().hour <= 18):\n",
    "            print('in the right timeframe, launching script')\n",
    "            createMessage(mybot, bot_chatID, stockList)\n",
    "        print('Sleeping 15 minutes')\n",
    "        time.sleep(60 * 15)\n",
    "\n"
   ]
  },
  {
   "cell_type": "code",
   "execution_count": null,
   "metadata": {},
   "outputs": [
    {
     "name": "stderr",
     "output_type": "stream",
     "text": [
      "Traceback (most recent call last):\n",
      "  File \"/home/user/venv/lib/python3.8/site-packages/telepot/__init__.py\", line 1181, in get_from_telegram_server\n",
      "    result = self.getUpdates(offset=offset,\n",
      "  File \"/home/user/venv/lib/python3.8/site-packages/telepot/__init__.py\", line 1000, in getUpdates\n",
      "    return self._api_request('getUpdates', _rectify(p))\n",
      "  File \"/home/user/venv/lib/python3.8/site-packages/telepot/__init__.py\", line 491, in _api_request\n",
      "    return api.request((self._token, method, params, files), **kwargs)\n",
      "  File \"/home/user/venv/lib/python3.8/site-packages/telepot/api.py\", line 155, in request\n",
      "    return _parse(r)\n",
      "  File \"/home/user/venv/lib/python3.8/site-packages/telepot/api.py\", line 150, in _parse\n",
      "    raise exception.TelegramError(description, error_code, data)\n",
      "telepot.exception.TelegramError: ('Conflict: terminated by other getUpdates request; make sure that only one bot instance is running', 409, {'ok': False, 'error_code': 409, 'description': 'Conflict: terminated by other getUpdates request; make sure that only one bot instance is running'})\n"
     ]
    }
   ],
   "source": [
    "main()"
   ]
  }
 ],
 "metadata": {
  "kernelspec": {
   "display_name": "Python 3",
   "language": "python",
   "name": "python3"
  },
  "language_info": {
   "codemirror_mode": {
    "name": "ipython",
    "version": 3
   },
   "file_extension": ".py",
   "mimetype": "text/x-python",
   "name": "python",
   "nbconvert_exporter": "python",
   "pygments_lexer": "ipython3",
   "version": "3.8.1"
  }
 },
 "nbformat": 4,
 "nbformat_minor": 4
}
