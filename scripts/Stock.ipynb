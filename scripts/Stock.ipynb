{
 "cells": [
  {
   "cell_type": "code",
   "execution_count": null,
   "metadata": {},
   "outputs": [],
   "source": [
    "import importlib"
   ]
  },
  {
   "cell_type": "code",
   "execution_count": null,
   "metadata": {},
   "outputs": [],
   "source": [
    "import os\n",
    "import json\n",
    "from datetime import date, datetime, timedelta, time\n",
    "import numpy as np\n",
    "import pandas as pd\n",
    "import plotly.graph_objects as go\n",
    "import pandas as pd\n",
    "from plotly_tools import genIMGfromFile\n",
    "from IPython.display import Image as ImageD\n",
    "from sqlalchemy import create_engine, desc, asc\n",
    "from sqlalchemy.orm import scoped_session, sessionmaker\n",
    "import time"
   ]
  },
  {
   "cell_type": "code",
   "execution_count": null,
   "metadata": {},
   "outputs": [],
   "source": [
    "\n",
    "import updateDB\n",
    "importlib.reload(updateDB)\n",
    "import libsstock\n",
    "importlib.reload(libsstock)\n",
    "import libs.datamodel\n",
    "importlib.reload(libs.datamodel)\n",
    "from updateDB import (\n",
    "    updateOHLC, getStockIntradayData, getYFdata, updateDB, updateDBintradayFromSSI, getLastsValue, getStockName,\n",
    "    getStockData, addStock, updateDB, getStockIntradayData, getStockName\n",
    ")\n",
    "\n",
    "from libsstock import (\n",
    "    loadStocks, computeIchimoku,\n",
    "    graphIchimoku, graphBestGain, graphWorseGain, graphCashLock, graphRendement,\n",
    "    graphEvolutionTitre, checkVar,\n",
    "    loadStocks, computeIchimoku,\n",
    "    graphIchimoku, graphBestGain, graphWorseGain, graphCashLock, graphRendement,\n",
    "    graphEvolutionTitre, checkVar, graphDataForStock, loadStocks, genLink1stock, detectStockVar,\n",
    "    detectStockVar, computeRRvals, computeParms, timeFromOpenningMin, genLink1stock, isMarketOpen\n",
    ")\n",
    "from libs.datamodel import StockDay, StockIntraDay, HistDetectStockVar\n",
    "#updateDB()\n",
    "updateDBintradayFromSSI()\n",
    "#updateDB(daysHisto=365*10, stockRes='daily')\n",
    "#updateDB(daysHisto=6, stockRes='intraday')"
   ]
  },
  {
   "cell_type": "code",
   "execution_count": null,
   "metadata": {},
   "outputs": [],
   "source": [
    "from yahoo_fin import stock_info as si\n",
    "\n",
    "si.get_live_price('AI.PA')"
   ]
  },
  {
   "cell_type": "code",
   "execution_count": null,
   "metadata": {},
   "outputs": [],
   "source": []
  },
  {
   "cell_type": "code",
   "execution_count": null,
   "metadata": {},
   "outputs": [],
   "source": [
    "df = loadStocks('mystocks.json')\n",
    "dfS = df[df['sellValue'].isna()].sort_values('boughtDate')\n",
    "strOut = ''\n",
    "for lineIND in dfS.index:\n",
    "    line = dfS.loc[lineIND]\n",
    "    strOut += line['name'] + \" / \" + line['stockname'] + \" / \" + \"/stockinfo\" + str(line['stockname']).replace('.', '_') + '\\n'\n",
    "\n",
    "    strOut += \"- PRU      : {:.2f} €\\n\".format(line['boughtNetValue'])\n",
    "    strOut += \"- COURS    : {:.2f} €\\n\".format(line['valueNow'])\n",
    "    strOut += \"- CAPITAL  : {:.2f} €\\n\".format(line['netActualLock'])\n",
    "    strOut += \"- LOSS/GAIN: {:.2f} % / {:.2f} €\\n\".format(line['netActualGainPercent'], line['netActualGain'])\n",
    "print(strOut)"
   ]
  },
  {
   "cell_type": "code",
   "execution_count": null,
   "metadata": {},
   "outputs": [],
   "source": [
    "dfS = loadStocks('mystocks.json')\n",
    "dfS = dfS[dfS['sellValue'].isna()].sort_values('boughtDate')"
   ]
  },
  {
   "cell_type": "code",
   "execution_count": null,
   "metadata": {},
   "outputs": [],
   "source": [
    "dfS"
   ]
  },
  {
   "cell_type": "code",
   "execution_count": null,
   "metadata": {},
   "outputs": [],
   "source": []
  },
  {
   "cell_type": "code",
   "execution_count": null,
   "metadata": {},
   "outputs": [],
   "source": []
  },
  {
   "cell_type": "code",
   "execution_count": null,
   "metadata": {},
   "outputs": [],
   "source": []
  },
  {
   "cell_type": "code",
   "execution_count": null,
   "metadata": {},
   "outputs": [],
   "source": []
  },
  {
   "cell_type": "code",
   "execution_count": null,
   "metadata": {},
   "outputs": [],
   "source": [
    "\n",
    "investValue = float('68')\n",
    "boughtValue = float('9.16')\n",
    "(boughtQ, investCash, valBuy) = computeParms(boughtValue, investValue)\n",
    "rrVals = computeRRvals(valBuy, boughtValue, maxLoss=0.05, riskRewardRatio=2)\n",
    "print('Ordre à seuil de déclenchement')\n",
    "print('Q={:.0f}, PRU={:.3f} €, capital={:.3f} €, Frais: {:.1f}'.format(boughtQ, valBuy, investCash, rrVals['impactFrais'] * 100))\n",
    "print('Stoploss: {:.2f} € / {:.1f} %'.format(rrVals['stopLossVal'], rrVals['stopLossRatio'] * 100))\n",
    "print('Sell    : {:.2f} € / {:.1f} %'.format(rrVals['takeProfitVal'], rrVals['takeProfitRatio'] * 100))"
   ]
  },
  {
   "cell_type": "code",
   "execution_count": null,
   "metadata": {},
   "outputs": [],
   "source": [
    "def computeRRgraph(stockName='EMG.PA', riskRewardRatio=2, maxLoss=0.05):\n",
    "    boughtDate = dfS[dfS['stockname'] == stockName]['boughtDate']\n",
    "    boughtValue = float(dfS[dfS['stockname'] == stockName]['boughtValue'])\n",
    "    valBuy = float(dfS[dfS['stockname'] == stockName]['boughtNetValue'])\n",
    "    qBuy = float(dfS[dfS['stockname'] == stockName]['boughtQ'])\n",
    "    sumFrais = dfS[dfS['stockname'] == stockName]['boughtFrais'] + dfS[dfS['stockname'] == stockName]['sellFrais']\n",
    "    stopLossPercent = maxLoss - (boughtValue - valBuy)/valBuy\n",
    "    stopLossVal = boughtValue * (1 - stopLossPercent)\n",
    "    sellRatioPercent = maxLoss * riskRewardRatio\n",
    "    sellRatioVal = boughtValue * (1 + sellRatioPercent)\n",
    "    df = getStockIntradayData(stockName, datetime.now() - timedelta(hours=15))\n",
    "    df = updateOHLC(df, freq=15, unit='T')\n",
    "    tmpstore = np.array(df['Close'])\n",
    "    df['relGain'] = (tmpstore - valBuy) / valBuy * 100\n",
    "    df['absGain'] = (tmpstore - valBuy) * qBuy\n",
    "    df.index += timedelta(hours=1)\n",
    "    dataFig = []\n",
    "    dataFig.append({\n",
    "            'x': df.index,\n",
    "            'y': df['relGain'],\n",
    "            'type': 'scatter',\n",
    "    })\n",
    "    dataFig.append({\n",
    "            'x': [df.index[0], df.index[-1]],\n",
    "            'y': [sellRatioPercent * 100, sellRatioPercent * 100],\n",
    "            'type': 'scatter',\n",
    "            'name': 'Sell barrier'\n",
    "    })\n",
    "    dataFig.append({\n",
    "            'x': [df.index[0], df.index[-1]],\n",
    "            'y': [- stopLossPercent * 100, - stopLossPercent * 100],\n",
    "            'type': 'scatter',\n",
    "            'name': 'Stop Loss'\n",
    "    })\n",
    "    dataFig.append({\n",
    "        'x': [boughtDate.iloc[0] + timedelta(hours=1)],\n",
    "        'y': [(boughtValue - valBuy)/valBuy*100],\n",
    "        'type': 'scatter',\n",
    "        'name': 'Sell', 'type': 'scatter', 'mode': 'markers',\n",
    "        'marker': dict(\n",
    "            color='orange',\n",
    "            size=10,\n",
    "            line=dict(\n",
    "                color='yellow',\n",
    "                width=3\n",
    "            )\n",
    "        ),\n",
    "    })\n",
    "    fig = go.Figure(data=dataFig, layout={\n",
    "        'title': 'Rendement relatif ' + str(dfS[dfS['stockname'] == stockName]['name'].iloc[0]),\n",
    "        'xaxis_title': \"Heure\",\n",
    "        'yaxis_title': \"%\",\n",
    "    })\n",
    "    fig.update_layout(template=\"plotly_dark\", xaxis_rangeslider_visible=False, showlegend=False)\n",
    "    fig.show()"
   ]
  },
  {
   "cell_type": "code",
   "execution_count": null,
   "metadata": {},
   "outputs": [],
   "source": [
    "for stockName in dfS[dfS['sellValue'].isna()]['stockname']: #dfS[dfS['stockname'] == 'CGG.PA']['stockname']: \n",
    "    computeRRgraph(stockName=stockName)"
   ]
  },
  {
   "cell_type": "code",
   "execution_count": null,
   "metadata": {},
   "outputs": [],
   "source": []
  },
  {
   "cell_type": "code",
   "execution_count": null,
   "metadata": {},
   "outputs": [],
   "source": [
    "\n",
    "import libsstock\n",
    "importlib.reload(libsstock)\n",
    "import updateDB\n",
    "importlib.reload(updateDB)\n",
    "from updateDB import updateOHLC, getStockIntradayData, getYFdata, updateDB\n",
    "from libsstock import (\n",
    "    loadStocks, computeIchimoku,\n",
    "    graphIchimoku, graphBestGain, graphWorseGain, graphCashLock, graphRendement,\n",
    "    graphEvolutionTitre, checkVar, graphDataForStock, loadStocks, graphGenericStock\n",
    ")\n",
    "\n",
    "#stockName = msg[\"text\"].replace('/stockinfo','').replace('_', '.')\n",
    "print('Generate data for ' + stockName)\n",
    "if mybot is not None:\n",
    "    mybot.sendMessage(\n",
    "        chat_id, 'Generate data for ' + stockName\n",
    "    )\n",
    "graphDataA = []\n",
    "#graphDataA.append(graphEvolutionTitre(stockName))\n",
    "#graphDataA.append(graphDataForStock(stockName, freq=1, unit='W', histoDepth=timedelta(days=360)))\n",
    "#graphDataA.append(graphDataForStock(stockName, freq=1, unit='D', histoDepth=timedelta(days=60)))\n",
    "graphDataA.append(graphDataForStock(stockName, freq=5, unit='T', histoDepth=timedelta(days=0)))\n",
    "if mybot is not None:\n",
    "    for graphData in graphDataA:\n",
    "        genIMGfromFile(graphData, 'img.png', scale=1.3, width=800, height=500)\n",
    "        mybot.sendPhoto(chat_id, open('img.png', 'rb'))\n",
    "else:\n",
    "    for graphData in graphDataA:\n",
    "        fig = go.Figure(graphData)\n",
    "        fig.show()"
   ]
  },
  {
   "cell_type": "code",
   "execution_count": null,
   "metadata": {},
   "outputs": [],
   "source": [
    "#display(ImageD(data=genIMGfromFile(graphBestGain(df), 'img.png', scale=1.3, width=500, height=500)))\n",
    "#display(ImageD(data=genIMGfromFile(graphWorseGain(df), 'img.png', scale=1.3, width=500, height=500)))\n",
    "#display(ImageD(data=genIMGfromFile(graphCashLock(df), 'img.png', scale=1.3, width=500, height=500)))\n",
    "display(ImageD(data=genIMGfromFile(graphRendement(df, method='all'), 'img.png', scale=1.3, width=800, height=500)))"
   ]
  },
  {
   "cell_type": "code",
   "execution_count": null,
   "metadata": {},
   "outputs": [],
   "source": [
    "for ind in range(len(df)):\n",
    "    display(ImageD(data=genIMGfromFile(graphEvolutionTitre(getStockData(df.iloc[ind]['stockname']), df.iloc[ind]), 'img.png', scale=1.3, width=800, height=500)))"
   ]
  },
  {
   "cell_type": "code",
   "execution_count": null,
   "metadata": {},
   "outputs": [],
   "source": [
    "# fill name in empty fields\n",
    "#jsonToUpdate = 'stockprospects.json'\n",
    "jsonToUpdate = 'mystocks.json'\n",
    "df = pd.read_json(jsonToUpdate, orient='index')\n",
    "#df= df.append({\n",
    "#    'stockname': 'ALNOV.PA', \n",
    "#    'boughtDate': datetime(year=2020, month=2, day=17), \n",
    "#    'boughtValue': 2.07,\n",
    "#    'boughtQ': 25,\n",
    "#    'boughtFrais': 1.99,\n",
    "#    'sellFrais': 1.99,\n",
    "#}, ignore_index=True)\n",
    "#df.loc[df['stockname'] == 'ALNOV.PA', 'name'] = 'NOVACYT'\n",
    "#df.loc[df[df['stockname'] == 'ALNOV.PA'].iloc[-1].name, 'sellValue'] = 12.9\n",
    "#df.loc[df[df['stockname'] == 'ALNOV.PA'].iloc[-1].name, 'sellDate'] = datetime(year=2020, month=2, day=20)\n",
    "#df = fillNameFromYF(df)\n",
    "df.to_json(jsonToUpdate, orient='index', indent=4)\n",
    "display(df)\n",
    "#historyData = getYFdate(df, startDate=date.today() - timedelta(days=365+41), stopDate=date.today() + timedelta(days=1))"
   ]
  },
  {
   "cell_type": "code",
   "execution_count": null,
   "metadata": {},
   "outputs": [],
   "source": [
    "df.loc[((df['stockname'] == 'ALNOV.PA') && )]"
   ]
  },
  {
   "cell_type": "code",
   "execution_count": null,
   "metadata": {},
   "outputs": [],
   "source": [
    "# fill name in empty fields\n",
    "jsonToUpdate = 'stockprospects.json'\n",
    "df = pd.read_json(jsonToUpdate, orient='index')\n",
    "#df= df.append({'stockname': 'ALERS.PA'}, ignore_index=True)\n",
    "#df.loc[df['stockname'] == 'ALERS.PA', 'name'] = 'EUROBIO SCIENT'\n",
    "#df = fillNameFromYF(df)\n",
    "df.to_json(jsonToUpdate, orient='index', indent=4)\n",
    "display(df)\n",
    "#historyData = getYFdate(df, startDate=date.today() - timedelta(days=365+41), stopDate=date.today() + timedelta(days=1))"
   ]
  },
  {
   "cell_type": "code",
   "execution_count": null,
   "metadata": {},
   "outputs": [],
   "source": [
    "[{'label':df.loc[ind]['name'], 'value':df.loc[ind]['stockname']} for ind in df.index]"
   ]
  },
  {
   "cell_type": "code",
   "execution_count": null,
   "metadata": {},
   "outputs": [],
   "source": [
    "dateStart = datetime.now() - timedelta(days=200)\n",
    "dateStop = datetime.now()\n",
    "df = pd.DataFrame([{'stockname': 'STM.PA',},])\n",
    "dfData = loadStocks('mystocks.json')\n",
    "dfData = dfData[dfData['stockname'] == df.iloc[0]['stockname']]\n",
    "if len(dfData) > 0:\n",
    "    df = dfData\n",
    "else:\n",
    "    df = fillNameFromYF(df)\n",
    "dfHist = getYFdate(df, dateStart, dateStop)\n",
    "dfHist = computeIchimoku(dfHist[0])\n",
    "display(ImageD(data=genIMGfromFile(graphIchimoku(df, dfHist).update({'layout': dict(template=\"plotly_dark\", xaxis_rangeslider_visible=False)}), 'img.png', scale=1.3, width=800, height=500)))"
   ]
  },
  {
   "cell_type": "code",
   "execution_count": null,
   "metadata": {},
   "outputs": [],
   "source": []
  },
  {
   "cell_type": "code",
   "execution_count": null,
   "metadata": {},
   "outputs": [],
   "source": []
  },
  {
   "cell_type": "code",
   "execution_count": null,
   "metadata": {},
   "outputs": [],
   "source": [
    "listStockNames = [df.loc[ind]['stockname'] for ind in df.index]\n",
    "for ind in range(len(listStockNames)):\n",
    "    histo = computeIchimoku(historyData[ind])\n",
    "    display(ImageD(data=genIMGfromFile(graphIchimoku(df[df['stockname'] == listStockNames[ind]], histo), 'img.png', scale=1.3)))"
   ]
  }
 ],
 "metadata": {
  "kernelspec": {
   "display_name": "Python 3",
   "language": "python",
   "name": "python3"
  },
  "language_info": {
   "codemirror_mode": {
    "name": "ipython",
    "version": 3
   },
   "file_extension": ".py",
   "mimetype": "text/x-python",
   "name": "python",
   "nbconvert_exporter": "python",
   "pygments_lexer": "ipython3",
   "version": "3.7.5"
  }
 },
 "nbformat": 4,
 "nbformat_minor": 4
}
